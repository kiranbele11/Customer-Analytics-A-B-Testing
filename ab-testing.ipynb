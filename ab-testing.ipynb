{
 "cells": [
  {
   "cell_type": "markdown",
   "metadata": {},
   "source": [
    "# Import Libraries"
   ]
  },
  {
   "cell_type": "code",
   "execution_count": 74,
   "metadata": {},
   "outputs": [
    {
     "name": "stderr",
     "output_type": "stream",
     "text": [
      "Matplotlib is building the font cache; this may take a moment.\n"
     ]
    }
   ],
   "source": [
    "import pandas as pd\n",
    "import numpy as np\n",
    "from datetime import datetime, timedelta\n",
    "import matplotlib.pyplot as plt\n",
    "import warnings\n",
    "warnings.filterwarnings(\"ignore\")"
   ]
  },
  {
   "cell_type": "markdown",
   "metadata": {},
   "source": [
    "# Loading & examining data\n"
   ]
  },
  {
   "cell_type": "code",
   "execution_count": 30,
   "metadata": {},
   "outputs": [
    {
     "name": "stdout",
     "output_type": "stream",
     "text": [
      "Index(['uid', 'reg_date', 'device', 'gender', 'country', 'age'], dtype='object')\n",
      "Index(['date', 'uid', 'sku', 'price'], dtype='object')\n"
     ]
    }
   ],
   "source": [
    "# Load the customer_data\n",
    "customer_data = pd.read_csv('/Users/kiranbele/Documents/Projects/Customer-Analytics-A-B-Testing/ab-testing-project/datasets/user_demographics_v1.csv')\n",
    "\n",
    "# Load the app_purchases\n",
    "app_purchases = pd.read_csv('/Users/kiranbele/Documents/Projects/Customer-Analytics-A-B-Testing/ab-testing-project/datasets/purchase_data_v1.csv')\n",
    "\n",
    "# Print the columns of customer data\n",
    "print(customer_data.columns)\n",
    "\n",
    "# Print the columns of app_purchases\n",
    "print(app_purchases.columns)"
   ]
  },
  {
   "cell_type": "markdown",
   "metadata": {},
   "source": [
    "# Merging on different sets of fields"
   ]
  },
  {
   "cell_type": "code",
   "execution_count": 35,
   "metadata": {},
   "outputs": [
    {
     "name": "stdout",
     "output_type": "stream",
     "text": [
      "         date       uid            sku  price              reg_date device  \\\n",
      "0  2017-07-10  41195147  sku_three_499    499  2017-06-26T00:00:00Z    and   \n",
      "1  2017-07-15  41195147  sku_three_499    499  2017-06-26T00:00:00Z    and   \n",
      "2  2017-11-12  41195147   sku_four_599    599  2017-06-26T00:00:00Z    and   \n",
      "3  2017-09-26  91591874    sku_two_299    299  2017-01-05T00:00:00Z    and   \n",
      "4  2017-12-01  91591874   sku_four_599    599  2017-01-05T00:00:00Z    and   \n",
      "\n",
      "  gender country  age  \n",
      "0      M     BRA   17  \n",
      "1      M     BRA   17  \n",
      "2      M     BRA   17  \n",
      "3      M     TUR   17  \n",
      "4      M     TUR   17  \n",
      "9006\n"
     ]
    }
   ],
   "source": [
    "# Merge on the 'uid' field\n",
    "Purchase_data = app_purchases.merge(customer_data, on=['uid'], how='inner')\n",
    "\n",
    "# Examine the results \n",
    "print(Purchase_data.head())\n",
    "print(len(Purchase_data))"
   ]
  },
  {
   "cell_type": "markdown",
   "metadata": {},
   "source": [
    "# Aggregations"
   ]
  },
  {
   "cell_type": "code",
   "execution_count": 36,
   "metadata": {},
   "outputs": [
    {
     "name": "stdout",
     "output_type": "stream",
     "text": [
      "406.77259604707973\n"
     ]
    }
   ],
   "source": [
    "\n",
    "# Calculate the mean purchase price \n",
    "purchase_price_mean = Purchase_data.price.agg('mean')\n",
    "\n",
    "# Examine the output \n",
    "print(purchase_price_mean)"
   ]
  },
  {
   "cell_type": "code",
   "execution_count": 37,
   "metadata": {},
   "outputs": [
    {
     "name": "stdout",
     "output_type": "stream",
     "text": [
      "mean      406.772596\n",
      "median    299.000000\n",
      "Name: price, dtype: float64\n"
     ]
    }
   ],
   "source": [
    "# Calculate the mean and median purchase price \n",
    "purchase_price_summary = Purchase_data.price.agg(['mean', 'median'])\n",
    "\n",
    "# Examine the output \n",
    "print(purchase_price_summary)"
   ]
  },
  {
   "cell_type": "code",
   "execution_count": 38,
   "metadata": {},
   "outputs": [
    {
     "name": "stdout",
     "output_type": "stream",
     "text": [
      "             price        age\n",
      "mean    406.772596  23.922274\n",
      "median  299.000000  21.000000\n"
     ]
    }
   ],
   "source": [
    "# Calculate the mean and median of price and age\n",
    "purchase_summary = Purchase_data.agg({'price': ['mean', 'median'], 'age': ['mean', 'median']})\n",
    "\n",
    "# Examine the output \n",
    "print(purchase_summary)"
   ]
  },
  {
   "cell_type": "markdown",
   "metadata": {},
   "source": [
    "# Grouping & aggregating"
   ]
  },
  {
   "cell_type": "code",
   "execution_count": 40,
   "metadata": {},
   "outputs": [
    {
     "name": "stdout",
     "output_type": "stream",
     "text": [
      "                    price                   \n",
      "                     mean median         std\n",
      "device gender                               \n",
      "and    F       400.747504  299.0  179.984378\n",
      "       M       416.237308  499.0  195.001520\n",
      "iOS    F       404.435330  299.0  181.524952\n",
      "       M       405.272401  299.0  196.843197\n"
     ]
    }
   ],
   "source": [
    "# Group the data \n",
    "grouped_purchase_data = Purchase_data.groupby(by=['device', 'gender'])\n",
    "\n",
    "# Aggregate the data\n",
    "purchase_summary = grouped_purchase_data.agg({'price': ['mean', 'median', 'std']})\n",
    "\n",
    "# Examine the results\n",
    "print(purchase_summary)"
   ]
  },
  {
   "cell_type": "markdown",
   "metadata": {},
   "source": [
    "# Calculating KPIs"
   ]
  },
  {
   "cell_type": "markdown",
   "metadata": {},
   "source": [
    "calculating the average amount paid per purchase within a user's first 28 days using the purchase_data DataFrame from before.\n",
    "\n",
    "This KPI can provide a sense of the popularity of different in-app purchase price points to users within their first month."
   ]
  },
  {
   "cell_type": "code",
   "execution_count": 51,
   "metadata": {},
   "outputs": [
    {
     "name": "stdout",
     "output_type": "stream",
     "text": [
      "415.7741935483871\n"
     ]
    }
   ],
   "source": [
    "# Define the current date\n",
    "current_date = datetime.now()  # or use a specific date, e.g., datetime(2023, 10, 1)\n",
    "\n",
    "# To Compute max_purchase_date\n",
    "max_purchase_date = current_date - timedelta(days=28)\n",
    "\n",
    "# Make 'reg_date' timezone-naive\n",
    "Purchase_data['reg_date'] = Purchase_data['reg_date'].dt.tz_localize(None)\n",
    "\n",
    "# Filter to only include users who registered before max_purchase_date\n",
    "purchase_data_filt = Purchase_data[Purchase_data['reg_date'] < max_purchase_date]\n",
    "\n",
    "# Filter to contain only purchases within the first 28 days of registration\n",
    "purchase_data_filt = purchase_data_filt[(purchase_data_filt.date <= purchase_data_filt.reg_date + timedelta(days=28))]\n",
    "\n",
    "# Output the mean price paid per purchase\n",
    "print(purchase_data_filt.price.mean())\n"
   ]
  },
  {
   "cell_type": "markdown",
   "metadata": {},
   "source": [
    "## Average purchase price by cohort"
   ]
  },
  {
   "cell_type": "code",
   "execution_count": 57,
   "metadata": {},
   "outputs": [
    {
     "name": "stdout",
     "output_type": "stream",
     "text": [
      "  gender device      month1              price       \n",
      "                       mean median        mean median\n",
      "0      F    and  390.758242  299.0  400.747504  299.0\n",
      "1      F    iOS  429.434783  499.0  404.435330  299.0\n",
      "2      M    and  417.285714  499.0  416.237308  499.0\n",
      "3      M    iOS  434.398230  499.0  405.272401  299.0\n"
     ]
    }
   ],
   "source": [
    "# Setting the max registration date to be one month before today\n",
    "max_reg_date = current_date - timedelta(days=28)\n",
    "\n",
    "# Finding the month 1 values\n",
    "month1 = np.where((Purchase_data.reg_date < max_reg_date) & (Purchase_data.date < Purchase_data.reg_date + timedelta(days=28)), Purchase_data.price, np.nan)\n",
    "                 \n",
    "# Updating the value in the DataFrame\n",
    "Purchase_data['month1'] = month1\n",
    "\n",
    "# Grouping the data by gender and device \n",
    "purchase_data_upd = Purchase_data.groupby(by=['gender', 'device'], as_index=False)\n",
    "\n",
    "# Aggregating the month1 and price data \n",
    "purchase_summary = purchase_data_upd.agg({'month1': ['mean', 'median'],'price': ['mean', 'median']})\n",
    "\n",
    "# Examine the results \n",
    "print(purchase_summary)"
   ]
  },
  {
   "cell_type": "markdown",
   "metadata": {},
   "source": [
    "This value seems relatively stable over the past 28 days."
   ]
  },
  {
   "cell_type": "markdown",
   "metadata": {},
   "source": [
    "# Working with Time Series Data Using Pandas"
   ]
  },
  {
   "cell_type": "markdown",
   "metadata": {},
   "source": [
    "# Parsing dates"
   ]
  },
  {
   "cell_type": "code",
   "execution_count": 64,
   "metadata": {},
   "outputs": [
    {
     "name": "stdout",
     "output_type": "stream",
     "text": [
      "2017-01-27 00:00:00\n",
      "2017-08-01 00:00:00\n",
      "1978-08-17 00:00:00\n",
      "2016-03-01 01:56:00\n"
     ]
    }
   ],
   "source": [
    "# Paring of variety of date formats \n",
    "date_data_one = \"Saturday, January 27, 2017\"  \n",
    "date_data_one = pd.to_datetime(date_data_one, format=\"%A, %B %d, %Y\")  \n",
    "print(date_data_one)\n",
    "date_data_two = \"2017-08-01\"\n",
    "date_data_two = pd.to_datetime(date_data_two, format=\"%Y-%m-%d\")\n",
    "print(date_data_two)\n",
    "date_data_three = \"08/17/1978\"\n",
    "date_data_three = pd.to_datetime(date_data_three, format=\"%m/%d/%Y\")\n",
    "print(date_data_three)\n",
    "date_data_four = \"2016 March 01 01:56\"\n",
    "date_data_four = pd.to_datetime(date_data_four, format=\"%Y %B %d %H:%M\")\n",
    "print(date_data_four)"
   ]
  },
  {
   "cell_type": "markdown",
   "metadata": {},
   "source": [
    "# Plotting time series data"
   ]
  },
  {
   "cell_type": "code",
   "execution_count": 78,
   "metadata": {},
   "outputs": [
    {
     "name": "stdout",
     "output_type": "stream",
     "text": [
      "0        5\n",
      "1        2\n",
      "2        8\n",
      "3        3\n",
      "4        2\n",
      "        ..\n",
      "1317     6\n",
      "1318     6\n",
      "1319     1\n",
      "1320     2\n",
      "1321    10\n",
      "Name: first_week_purchases, Length: 1322, dtype: int64\n"
     ]
    }
   ],
   "source": [
    "# Calculate the first week purchases\n",
    "first_week_purchases = Purchase_data.groupby('uid').apply(\n",
    "    lambda x: x['reg_date'].dt.to_period('W').value_counts().sum()\n",
    ").reset_index(name='first_week_purchases')\n",
    "\n",
    "# Ensure you access the column after it has been created\n",
    "print(first_week_purchases['first_week_purchases'])\n"
   ]
  },
  {
   "cell_type": "code",
   "execution_count": null,
   "metadata": {},
   "outputs": [],
   "source": []
  },
  {
   "cell_type": "code",
   "execution_count": null,
   "metadata": {},
   "outputs": [],
   "source": []
  }
 ],
 "metadata": {
  "kernelspec": {
   "display_name": "abenv",
   "language": "python",
   "name": "python3"
  },
  "language_info": {
   "codemirror_mode": {
    "name": "ipython",
    "version": 3
   },
   "file_extension": ".py",
   "mimetype": "text/x-python",
   "name": "python",
   "nbconvert_exporter": "python",
   "pygments_lexer": "ipython3",
   "version": "3.13.1"
  }
 },
 "nbformat": 4,
 "nbformat_minor": 2
}
